{
 "cells": [
  {
   "cell_type": "markdown",
   "metadata": {},
   "source": [
    "# Notebook for basic movement of Mabu's head"
   ]
  },
  {
   "cell_type": "code",
   "execution_count": 21,
   "metadata": {},
   "outputs": [
    {
     "name": "stderr",
     "output_type": "stream",
     "text": [
      "WARNING: Skipping serial as it is not installed.\n"
     ]
    }
   ],
   "source": [
    "!pip uninstall serial -y"
   ]
  },
  {
   "cell_type": "code",
   "execution_count": 2,
   "metadata": {},
   "outputs": [
    {
     "name": "stdout",
     "output_type": "stream",
     "text": [
      "Defaulting to user installation because normal site-packages is not writeable\n",
      "Collecting pyserial\n",
      "  Using cached pyserial-3.5-py2.py3-none-any.whl.metadata (1.6 kB)\n",
      "Using cached pyserial-3.5-py2.py3-none-any.whl (90 kB)\n",
      "Installing collected packages: pyserial\n",
      "Successfully installed pyserial-3.5\n"
     ]
    },
    {
     "name": "stderr",
     "output_type": "stream",
     "text": [
      "\n",
      "[notice] A new release of pip is available: 24.2 -> 25.0.1\n",
      "[notice] To update, run: C:\\Users\\nicol\\AppData\\Local\\Microsoft\\WindowsApps\\PythonSoftwareFoundation.Python.3.12_qbz5n2kfra8p0\\python.exe -m pip install --upgrade pip\n"
     ]
    },
    {
     "name": "stdout",
     "output_type": "stream",
     "text": [
      "Defaulting to user installation because normal site-packages is not writeable\n",
      "Requirement already satisfied: ipywidgets in c:\\users\\nicol\\appdata\\local\\packages\\pythonsoftwarefoundation.python.3.12_qbz5n2kfra8p0\\localcache\\local-packages\\python312\\site-packages (8.1.5)\n",
      "Requirement already satisfied: comm>=0.1.3 in c:\\users\\nicol\\appdata\\local\\packages\\pythonsoftwarefoundation.python.3.12_qbz5n2kfra8p0\\localcache\\local-packages\\python312\\site-packages (from ipywidgets) (0.2.2)\n",
      "Requirement already satisfied: ipython>=6.1.0 in c:\\users\\nicol\\appdata\\local\\packages\\pythonsoftwarefoundation.python.3.12_qbz5n2kfra8p0\\localcache\\local-packages\\python312\\site-packages (from ipywidgets) (8.26.0)\n",
      "Requirement already satisfied: traitlets>=4.3.1 in c:\\users\\nicol\\appdata\\local\\packages\\pythonsoftwarefoundation.python.3.12_qbz5n2kfra8p0\\localcache\\local-packages\\python312\\site-packages (from ipywidgets) (5.14.3)\n",
      "Requirement already satisfied: widgetsnbextension~=4.0.12 in c:\\users\\nicol\\appdata\\local\\packages\\pythonsoftwarefoundation.python.3.12_qbz5n2kfra8p0\\localcache\\local-packages\\python312\\site-packages (from ipywidgets) (4.0.13)\n",
      "Requirement already satisfied: jupyterlab-widgets~=3.0.12 in c:\\users\\nicol\\appdata\\local\\packages\\pythonsoftwarefoundation.python.3.12_qbz5n2kfra8p0\\localcache\\local-packages\\python312\\site-packages (from ipywidgets) (3.0.13)\n",
      "Requirement already satisfied: decorator in c:\\users\\nicol\\appdata\\local\\packages\\pythonsoftwarefoundation.python.3.12_qbz5n2kfra8p0\\localcache\\local-packages\\python312\\site-packages (from ipython>=6.1.0->ipywidgets) (5.1.1)\n",
      "Requirement already satisfied: jedi>=0.16 in c:\\users\\nicol\\appdata\\local\\packages\\pythonsoftwarefoundation.python.3.12_qbz5n2kfra8p0\\localcache\\local-packages\\python312\\site-packages (from ipython>=6.1.0->ipywidgets) (0.19.1)\n",
      "Requirement already satisfied: matplotlib-inline in c:\\users\\nicol\\appdata\\local\\packages\\pythonsoftwarefoundation.python.3.12_qbz5n2kfra8p0\\localcache\\local-packages\\python312\\site-packages (from ipython>=6.1.0->ipywidgets) (0.1.7)\n",
      "Requirement already satisfied: prompt-toolkit<3.1.0,>=3.0.41 in c:\\users\\nicol\\appdata\\local\\packages\\pythonsoftwarefoundation.python.3.12_qbz5n2kfra8p0\\localcache\\local-packages\\python312\\site-packages (from ipython>=6.1.0->ipywidgets) (3.0.47)\n",
      "Requirement already satisfied: pygments>=2.4.0 in c:\\users\\nicol\\appdata\\local\\packages\\pythonsoftwarefoundation.python.3.12_qbz5n2kfra8p0\\localcache\\local-packages\\python312\\site-packages (from ipython>=6.1.0->ipywidgets) (2.17.2)\n",
      "Requirement already satisfied: stack-data in c:\\users\\nicol\\appdata\\local\\packages\\pythonsoftwarefoundation.python.3.12_qbz5n2kfra8p0\\localcache\\local-packages\\python312\\site-packages (from ipython>=6.1.0->ipywidgets) (0.6.3)\n",
      "Requirement already satisfied: colorama in c:\\users\\nicol\\appdata\\local\\packages\\pythonsoftwarefoundation.python.3.12_qbz5n2kfra8p0\\localcache\\local-packages\\python312\\site-packages (from ipython>=6.1.0->ipywidgets) (0.4.6)\n",
      "Requirement already satisfied: parso<0.9.0,>=0.8.3 in c:\\users\\nicol\\appdata\\local\\packages\\pythonsoftwarefoundation.python.3.12_qbz5n2kfra8p0\\localcache\\local-packages\\python312\\site-packages (from jedi>=0.16->ipython>=6.1.0->ipywidgets) (0.8.4)\n",
      "Requirement already satisfied: wcwidth in c:\\users\\nicol\\appdata\\local\\packages\\pythonsoftwarefoundation.python.3.12_qbz5n2kfra8p0\\localcache\\local-packages\\python312\\site-packages (from prompt-toolkit<3.1.0,>=3.0.41->ipython>=6.1.0->ipywidgets) (0.2.13)\n",
      "Requirement already satisfied: executing>=1.2.0 in c:\\users\\nicol\\appdata\\local\\packages\\pythonsoftwarefoundation.python.3.12_qbz5n2kfra8p0\\localcache\\local-packages\\python312\\site-packages (from stack-data->ipython>=6.1.0->ipywidgets) (2.0.1)\n",
      "Requirement already satisfied: asttokens>=2.1.0 in c:\\users\\nicol\\appdata\\local\\packages\\pythonsoftwarefoundation.python.3.12_qbz5n2kfra8p0\\localcache\\local-packages\\python312\\site-packages (from stack-data->ipython>=6.1.0->ipywidgets) (2.4.1)\n",
      "Requirement already satisfied: pure-eval in c:\\users\\nicol\\appdata\\local\\packages\\pythonsoftwarefoundation.python.3.12_qbz5n2kfra8p0\\localcache\\local-packages\\python312\\site-packages (from stack-data->ipython>=6.1.0->ipywidgets) (0.2.3)\n",
      "Requirement already satisfied: six>=1.12.0 in c:\\users\\nicol\\appdata\\local\\packages\\pythonsoftwarefoundation.python.3.12_qbz5n2kfra8p0\\localcache\\local-packages\\python312\\site-packages (from asttokens>=2.1.0->stack-data->ipython>=6.1.0->ipywidgets) (1.16.0)\n"
     ]
    },
    {
     "name": "stderr",
     "output_type": "stream",
     "text": [
      "\n",
      "[notice] A new release of pip is available: 24.2 -> 25.0.1\n",
      "[notice] To update, run: C:\\Users\\nicol\\AppData\\Local\\Microsoft\\WindowsApps\\PythonSoftwareFoundation.Python.3.12_qbz5n2kfra8p0\\python.exe -m pip install --upgrade pip\n"
     ]
    }
   ],
   "source": [
    "!pip install pyserial\n",
    "!pip install ipywidgets"
   ]
  },
  {
   "cell_type": "code",
   "execution_count": 3,
   "metadata": {},
   "outputs": [],
   "source": [
    "import serial\n",
    "import serial.tools.list_ports\n",
    "import time"
   ]
  },
  {
   "cell_type": "code",
   "execution_count": 4,
   "metadata": {},
   "outputs": [
    {
     "name": "stdout",
     "output_type": "stream",
     "text": [
      "Available serial ports:\n",
      "- COM16\n",
      "  Description: USB-SERIAL CH340 (COM16)\n",
      "  Hardware ID: USB VID:PID=1A86:7523 SER= LOCATION=1-3\n",
      "\n",
      "- COM4\n",
      "  Description: Standard Serial over Bluetooth link (COM4)\n",
      "  Hardware ID: BTHENUM\\{00001101-0000-1000-8000-00805F9B34FB}_LOCALMFG&0002\\7&17EE80CD&0&B46C4757ADF4_C00000000\n",
      "\n",
      "- COM5\n",
      "  Description: Standard Serial over Bluetooth link (COM5)\n",
      "  Hardware ID: BTHENUM\\{00001101-0000-1000-8000-00805F9B34FB}_LOCALMFG&0000\\7&17EE80CD&0&000000000000_00000000\n",
      "\n"
     ]
    }
   ],
   "source": [
    "# Get a list of all available serial ports\n",
    "ports = serial.tools.list_ports.comports()\n",
    "\n",
    "# Print information about each port\n",
    "if not ports:\n",
    "    print(\"No serial ports found.\")\n",
    "else:\n",
    "    print(\"Available serial ports:\")\n",
    "    for port in ports:\n",
    "        print(f\"- {port.device}\")\n",
    "        print(f\"  Description: {port.description}\")\n",
    "        print(f\"  Hardware ID: {port.hwid}\")\n",
    "        print()"
   ]
  },
  {
   "cell_type": "code",
   "execution_count": 5,
   "metadata": {},
   "outputs": [],
   "source": [
    "# Initialize serial connection\n",
    "ser = serial.Serial('COM16', 57600, timeout=1) "
   ]
  },
  {
   "cell_type": "code",
   "execution_count": 9,
   "metadata": {},
   "outputs": [],
   "source": [
    "def fletcher8(data):\n",
    "    sum1 = 0\n",
    "    sum2 = 0\n",
    "    for byte in data:\n",
    "        sum1 = (sum1 + byte) % 255\n",
    "        sum2 = (sum2 + sum1) % 255\n",
    "    return (sum2 << 8) | sum1\n",
    "\n",
    "def move_robot_part(part, value):\n",
    "    # Map parts to their respective command codes\n",
    "    part_codes = {\n",
    "        'LDL': 0x40,\n",
    "        'LDR': 0x20,\n",
    "        'ELR': 0x10,\n",
    "        'EUD': 0x08,\n",
    "        'NE': 0x04,\n",
    "        'NR': 0x02,\n",
    "        'NT': 0x01\n",
    "    }\n",
    "\n",
    "    if part not in part_codes:\n",
    "        raise ValueError(\"Invalid part specified\")\n",
    "\n",
    "    # Map 0-100 to 0-255\n",
    "    mapped_value = int(value * 2.55)\n",
    "\n",
    "    # Construct the command\n",
    "    command = bytearray([0xfa, 0x00, 0x04, 0x01, part_codes[part], 0x01, mapped_value])\n",
    "\n",
    "    # Calculate checksum usign fletcher8 algorithm\n",
    "    checksum = fletcher8(command)\n",
    "    command.append(checksum >> 8)\n",
    "    command.append(checksum & 0xff)\n",
    "\n",
    "    # Send the command\n",
    "    ser.write(command)\n",
    "    #time.sleep(0.1)  # Small delay to ensure command is processed\n",
    "\n",
    "# Initialize serial connection\n",
    "# ser = serial.Serial('COM19', 57600, timeout=1)\n",
    "\n",
    "def move_all_parts(ldl, ldr, elr, eud, ne, nr, nt):\n",
    "    move_robot_part('LDL', ldl)\n",
    "    move_robot_part('LDR', ldr)\n",
    "    move_robot_part('ELR', elr)\n",
    "    move_robot_part('EUD', eud)\n",
    "    move_robot_part('NE', ne)\n",
    "    move_robot_part('NR', nr)\n",
    "    move_robot_part('NT', nt)\n",
    "\n"
   ]
  },
  {
   "cell_type": "code",
   "execution_count": 7,
   "metadata": {},
   "outputs": [],
   "source": [
    "# Example usage:\n",
    "move_all_parts(50, 50, 50, 50, 50, 50, 50)"
   ]
  },
  {
   "cell_type": "code",
   "execution_count": 8,
   "metadata": {},
   "outputs": [
    {
     "data": {
      "application/vnd.jupyter.widget-view+json": {
       "model_id": "6c7eb7eaf609406ea1dce0160b5f9296",
       "version_major": 2,
       "version_minor": 0
      },
      "text/plain": [
       "interactive(children=(FloatSlider(value=0.0, description='LDL', step=1.0), FloatSlider(value=0.0, description=…"
      ]
     },
     "metadata": {},
     "output_type": "display_data"
    }
   ],
   "source": [
    "from ipywidgets import interactive, FloatSlider\n",
    "import ipywidgets as widgets\n",
    "\n",
    "def update_robot(LDL, LDR, ELR, EUD, NE, NR, NT):\n",
    "    move_robot_part('LDL', LDL)\n",
    "    move_robot_part('LDR', LDR)\n",
    "    move_robot_part('ELR', ELR)\n",
    "    move_robot_part('EUD', EUD)\n",
    "    move_robot_part('NE', NE)\n",
    "    move_robot_part('NR', NR)\n",
    "    move_robot_part('NT', NT)\n",
    "\n",
    "sliders = [\n",
    "    FloatSlider(min=0, max=100, step=1, description=part)\n",
    "    for part in ['LDL', 'LDR', 'ELR', 'EUD', 'NE', 'NR', 'NT']\n",
    "]\n",
    "\n",
    "interactive_plot = interactive(update_robot, LDL=sliders[0], LDR=sliders[1],\n",
    "                               ELR=sliders[2], EUD=sliders[3], NE=sliders[4],\n",
    "                               NR=sliders[5], NT=sliders[6])\n",
    "\n",
    "display(interactive_plot)"
   ]
  },
  {
   "cell_type": "code",
   "execution_count": null,
   "metadata": {},
   "outputs": [],
   "source": [
    "ser.close()"
   ]
  }
 ],
 "metadata": {
  "kernelspec": {
   "display_name": "Python 3",
   "language": "python",
   "name": "python3"
  },
  "language_info": {
   "codemirror_mode": {
    "name": "ipython",
    "version": 3
   },
   "file_extension": ".py",
   "mimetype": "text/x-python",
   "name": "python",
   "nbconvert_exporter": "python",
   "pygments_lexer": "ipython3",
   "version": "3.12.9"
  }
 },
 "nbformat": 4,
 "nbformat_minor": 2
}
